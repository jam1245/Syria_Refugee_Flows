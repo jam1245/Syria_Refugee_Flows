{
  "nbformat_minor": 0,
  "cells": [
    {
      "source": "### Deadly Syrian Migration Routes to Europe \n\nThis notebook explores the migration data set and examines the most deadly routes for Syrians going to Europe.  \n\nWe'll start by exploring the variables in the data set, doing a little data carpentry, and look for key insights.  I'm pretty new to data science and welcome all your feedback.  I would ideally like to model the data so if you have any suggestions on how to approach this using the data set, please let me know.  Also if anyone else has any ideas on how to improve the analysis please leave your comments below.  Thanks in advance! \n\nLet's get started. ",
      "cell_type": "markdown",
      "execution_count": null,
      "outputs": [],
      "metadata": {
        "_execution_state": "idle",
        "collapsed": false,
        "_uuid": "5bd7c080630e591afd40c647d01e88c361b32a28",
        "_cell_guid": "6d831c56-d1e7-45ab-b0fc-9bc53db59574"
      }
    },
    {
      "source": "library(ggplot2) \nlibrary(plotly)\nlibrary(readr) \nlibrary(tidyverse)\nlibrary(dplyr)\nlibrary(gridExtra)\nlibrary(grid)\nlibrary(ggthemes)\nlibrary(RColorBrewer)\nlibrary(ggfortify)\nlibrary(rworldmap)\n\nmissing <- read_csv(\"../input/MissingMigrantsProject.csv\")\nhead(missing)\nstr(missing)\nsummary(missing) \n\n# I'm going to simplify the column names just a bit \ncolnames(missing) <- c('id', 'cause_death', 'origin', 'nationality', 'missing', 'dead', 'incident_location', 'date', 'source', 'reliability', 'lat', 'lon')\n\n# check out your new column names\nnames(missing)",
      "cell_type": "code",
      "execution_count": 1,
      "outputs": [],
      "metadata": {
        "_execution_state": "idle",
        "_uuid": "05b25a3decfc287b3b603c135e2aad3a2e071169",
        "trusted": false,
        "_cell_guid": "891abf06-7327-4d39-a22e-50fe56c5ab39"
      }
    },
    {
      "source": "###**Part 1: Data Cleaning and Initial Exploration** \n\nLet's clean up some of the NAs are located in the dataframe ",
      "cell_type": "markdown",
      "execution_count": null,
      "outputs": [],
      "metadata": {
        "_execution_state": "idle",
        "collapsed": false,
        "_uuid": "11a6a7fab6c33b25c021997a61434b0ce4493f76",
        "_cell_guid": "0568cbaa-fe71-4cda-9c1e-b98db08bb59c"
      }
    },
    {
      "source": "# we have a lot of NAs for columns with missing and dead counts and most other columns look pretty good.  \n# we will clean this up a little bit focusing first on columns with numbers.  \n\nmissing[c(\"missing\", \"dead\", \"date\", \"lat\", \"lon\")][is.na(missing[c(\"missing\", \"dead\", \"date\", \"lat\", \"lon\")])] <- 0\n\nsummary(missing)\nstr(missing)",
      "cell_type": "code",
      "execution_count": 1,
      "outputs": [],
      "metadata": {
        "_execution_state": "idle",
        "collapsed": false,
        "_uuid": "417d4462f173f3ebeb8dfd8108ab8655be1bc581",
        "trusted": false,
        "_cell_guid": "cb6cfb3b-7313-4e1e-85c3-b4f136e305bb"
      }
    },
    {
      "source": "Let's first clean up the date column.  ",
      "cell_type": "markdown",
      "execution_count": null,
      "outputs": [],
      "metadata": {
        "_execution_state": "idle",
        "collapsed": false,
        "_uuid": "37a40538352ba10e181167eb53a6b72a40754b2d",
        "_cell_guid": "c9561219-015d-4b4e-8bc7-fa478b1f7813"
      }
    },
    {
      "source": "library(lubridate) \n\n#output looks like  we are working with a day / month / year format\nmissing$date <- dmy(missing$date)\nstr(missing$date) # view changes \n\nsummary(missing) # looks like there's a few dates with NAs that were introduced do to some messy data. \n# Let's clean up our other columns and we'll come back to this.  \n# Dropping these 9 rows might be easiest if there's something odd going on with these dates. \n",
      "cell_type": "code",
      "execution_count": 1,
      "outputs": [],
      "metadata": {
        "_execution_state": "idle",
        "collapsed": false,
        "_uuid": "0c0190664da57e22d8c002d1dfc5df88367d5f5b",
        "trusted": false,
        "_cell_guid": "3d3837f2-2623-4e99-811d-2892459c6d95"
      }
    },
    {
      "source": "Now examine the NA situation in our data set.  We'll summarize the NAs in each column.  Nationality seems to be the column containing the most NAs.  We can view this in a number of different ways.  ",
      "cell_type": "markdown",
      "execution_count": null,
      "outputs": [],
      "metadata": {
        "_execution_state": "idle",
        "collapsed": false,
        "_uuid": "f1b82642e9bec7e0409adee7e6d80a4abbb2a874",
        "_cell_guid": "67cbcbe5-29b0-41c7-9076-20d0a3c30491"
      }
    },
    {
      "source": "library(dplyr)\nmissing %>% \n    group_by(origin) %>%   \n    summarise_each(funs(sum(is.na(.))))\n\n\n# That is a large proportion of the number of records in the data\nsum(is.na(missing$origin))\nsum(is.na(missing$source))\nsum(is.na(missing$reliability))\nsum(is.na(missing$nationality))",
      "cell_type": "code",
      "execution_count": 1,
      "outputs": [],
      "metadata": {
        "_execution_state": "idle",
        "collapsed": false,
        "_uuid": "420b96bfaf8744835c12b70add314423c990d613",
        "trusted": false,
        "_cell_guid": "5c75ebe0-b75e-4cb5-887f-6428dd5e39ae"
      }
    },
    {
      "source": "For our analysis I'd rather have unknown as a value for some of these columns with NAs or missing values.  For some of these we're dealing with locations and nationalities.  We can assume we just don't know where these people are from or where they went missing/died.  ",
      "cell_type": "markdown",
      "execution_count": null,
      "outputs": [],
      "metadata": {
        "_execution_state": "idle",
        "collapsed": false,
        "_uuid": "0514ca7ba2e406d767a1b94e09b2e3bfcd56abcb",
        "_cell_guid": "b3e1f685-43de-43a4-a86b-90f7cce36b76"
      }
    },
    {
      "source": "# This code below just cleans up our NA situation by replacing the values, ultimately putting \"unknown\" in columns with characters that had many NAs\nmissing[c(\"origin\")][is.na(missing[c(\"origin\")])] <- 0\nmissing[c(\"nationality\")][is.na(missing[c(\"nationality\")])] <- 0\nmissing[c(\"incident_location\")][is.na(missing[c(\"incident_location\")])] <- 0\nmissing[c(\"reliability\")][is.na(missing[c(\"reliability\")])] <- 0\nmissing[c(\"source\")][is.na(missing[c(\"source\")])] <- 0\n\nmissing$origin <- gsub(\"0\", \"Unknown\", missing$origin)\nmissing$nationality <- gsub(\"0\", \"Unknown\", missing$nationality)\nmissing$incident_location <- gsub(\"0\", \"Unknown\", missing$incident_location)\nmissing$reliability <- gsub(\"0\", \"Unknown\", missing$reliability)\nmissing$source <- gsub(\"0\", \"Unknown\", missing$source)\n\n# for simplicity I'm just going to drop those 9 NAs in the date column. \nmissing <- missing %>% filter(!is.na(date))",
      "cell_type": "code",
      "execution_count": 1,
      "outputs": [],
      "metadata": {
        "_execution_state": "idle",
        "collapsed": false,
        "_uuid": "d997e9fb734689e57c2256a1b4208ad2b56ddb5b",
        "trusted": false,
        "_cell_guid": "30d89477-bdbb-439e-bc4b-c1adc7a24554"
      }
    },
    {
      "source": "Now let's examine the regions in the data set where people go missing or die.  The code below shows that most people die or go missing around the Mediterranean. This seems to match what we're hearing in the news and helps contextualize all the stories we hear about refugees drowning in the Mediterranean sea.   ",
      "cell_type": "markdown",
      "execution_count": null,
      "outputs": [],
      "metadata": {
        "_execution_state": "idle",
        "collapsed": false,
        "_uuid": "d1389d70b9a6f1269d01cb3098761007c762f7f4",
        "_cell_guid": "b89209b3-2a7d-418e-b5ca-a9149e3da7dc"
      }
    },
    {
      "source": "regions <- missing %>% \n    group_by(incident_location) %>% \n    summarise(sum(missing), sum(dead))\n\nregions <- as.data.frame(regions)\ncolnames(regions) <- c('incident_location', 'missing', 'dead')\nregions <- arrange(regions, dead)\nregions$incident_location <- factor(regions$incident_location, levels = regions$incident_location[order(regions$dead)])\n\nregions",
      "cell_type": "code",
      "execution_count": 1,
      "outputs": [],
      "metadata": {
        "_execution_state": "idle",
        "collapsed": false,
        "_uuid": "47a2a4b8b89c64735450bc8110af3f6ab65b2b78",
        "trusted": false,
        "_cell_guid": "b4402cc9-2c0e-4007-bee4-19dd08c5c531"
      }
    },
    {
      "source": "Let's go ahead and plot this table.  ",
      "cell_type": "markdown",
      "execution_count": null,
      "outputs": [],
      "metadata": {
        "_execution_state": "idle",
        "collapsed": false,
        "_uuid": "d30a74bd022ff756be6ee1758c8fb3ec7e06c900",
        "_cell_guid": "552aedaf-4ff7-4028-a853-3f8429af0f5c"
      }
    },
    {
      "source": "library(ggplot2)\n\n# Look at the distribution of deaths by region \np <- ggplot(regions, aes(x=incident_location, y=dead)) + \n  geom_bar(stat ='identity') + \n  coord_flip() + \n  ggtitle(\"migrant deaths recorded by region\") +\n  theme_fivethirtyeight() \n\np",
      "cell_type": "code",
      "execution_count": 1,
      "outputs": [],
      "metadata": {
        "_execution_state": "idle",
        "collapsed": false,
        "_uuid": "4b8f82f6858783e6b838ff6e4210668ddd25b6ff",
        "trusted": false,
        "_cell_guid": "f0b7fcec-cfe8-4d1c-9440-0edcd7c37556"
      }
    },
    {
      "source": "Now we plot the missing persons (migrants) by region where they went missing.  The Mediterranean region stands out. \n\nThe plots clearly show the Mediterranean as a location of interest. The incidents of missing persons and deaths in the Mediterranean are much greater than any other location throughout the world.  North Africa is another region that sticks out here with a large number of recorded deaths.  ",
      "cell_type": "markdown",
      "execution_count": null,
      "outputs": [],
      "metadata": {
        "_execution_state": "idle",
        "collapsed": false,
        "_uuid": "c0c2c150141255fd28d7fdb53ca9dc8f134e03b9",
        "_cell_guid": "494e914b-54cf-4c6b-9a3c-501f9c450739"
      }
    },
    {
      "source": "# clean and plot missing persons by region \nmissing_sums <- subset(regions, missing >= 1)\n\nmissing_sums  <- arrange(missing_sums , missing)\nmissing_sums$incident_location <- factor(missing_sums$incident_location, levels = missing_sums$incident_location[order(missing_sums$missing)])\n\np1 <- ggplot(missing_sums, aes(x=incident_location, y=missing)) + \n  geom_bar(stat ='identity') + \n  coord_flip() + \n  ggtitle(\"missing persons recorded by region\") +\n  theme_fivethirtyeight() \n\np1",
      "cell_type": "code",
      "execution_count": 1,
      "outputs": [],
      "metadata": {
        "_execution_state": "idle",
        "collapsed": false,
        "_uuid": "529c371f6a5d0611c627ac34672aa6b064e855f2",
        "trusted": false,
        "_cell_guid": "87d716b9-0a5c-4b24-9333-9e076c188809"
      }
    },
    {
      "source": "After further exploration of the original csv file we notice  a large number of records for North Africa were left blank.  That's why they were filled with \"unknown\" earlier in this workbook.  Going forward we are going to assume that these \"unknown\" values which were left blank in the original data set should be \"unverified\".  We're going to swap out \"unknown\" for \"unverified\".",
      "cell_type": "markdown",
      "execution_count": null,
      "outputs": [],
      "metadata": {
        "_execution_state": "idle",
        "collapsed": false,
        "_uuid": "40d108233cd4e972a236bf9dbdf375c23f7c6e2d",
        "_cell_guid": "11a179d5-5730-4530-a251-2e12e1e0bfe9"
      }
    },
    {
      "source": "# order plot\npositions <- c(\"Mediterranean\", \"North Africa\", \"U.S./Mexico Border\", \"Southeast Asia\", \n               \"Horn of Africa\", \"Central America incl. Mexico\", \"Sub-Saharan Africa\", \n               \"Europe\", \"Caribbean\", \"South America\", \"North America\", \"East Asia\", \"Unknown\")\n\np2 <- ggplot(missing, aes(x=factor(incident_location), y=dead, fill=factor(reliability))) +\n     geom_bar(stat = 'identity') +\n     coord_flip() +\n     ggtitle(\"deaths recorded by region\") +\n     scale_x_discrete(limits = positions)\n     \np2    \n\n# we have an \"unknown\" value in this column.  For this analysis \"unverified\" is more appropriate.  \nmissing$reliability <- gsub(\"Unknown\", \"Unverified\", missing$reliability)\n\n\n# We also notice that we have a spelling issue with \"partially verified\" when \n# the data set was created. One was created with caps and one without. We'll want to fix this.  \n\nmissing$reliability <- gsub(\"Partially verified\", \"Partially Verified\", missing$reliability)\n\n\n#plot again to view the updates.  This is looking better. \np3 <- ggplot(missing, aes(x=factor(incident_location), y=dead, fill=factor(reliability))) +\n     geom_bar(stat = 'identity') +\n     coord_flip() +\n     ggtitle(\"deaths recorded by region\") +\n     scale_x_discrete(limits = positions)\n     \np3    ",
      "cell_type": "code",
      "execution_count": 1,
      "outputs": [],
      "metadata": {
        "_execution_state": "idle",
        "collapsed": false,
        "_uuid": "7317cb935411e8ed601485c1a169c56e6cf947b1",
        "trusted": false,
        "_cell_guid": "90553b46-bedc-404c-a930-bd0d47be8a71"
      }
    },
    {
      "source": "\n# plot missing persons and deaths over time \n\n#deaths by date\np4 <- ggplot(missing, aes(x=date, y=dead)) + \n  geom_line() +\n  ggtitle(\"deaths by date\")\np4\n\n# missing persons by date\np5 <- ggplot(missing, aes(x=date, y=missing)) + \n  geom_line() +\n  ggtitle(\"missing persons by date\")\np5\n\n#Let's plot the dead variable over time and show the reliablity feature.  \n# We can see that the unverified or unknown data was documented in 2016.\np6 <- ggplot(missing, aes(x=date, y=dead)) + \n    geom_point(aes(col=reliability), alpha=0.6) +\n    ggtitle('reliability of recorded deaths')\np6\n\n",
      "cell_type": "code",
      "execution_count": 1,
      "outputs": [],
      "metadata": {
        "_execution_state": "idle",
        "collapsed": false,
        "_uuid": "76604e9e98d4ebb0725cc81fc9f3f0e4fa6482ea",
        "trusted": false,
        "_cell_guid": "f9fbf295-5172-40e7-aed8-e477311b6277"
      }
    },
    {
      "source": "View number or records for region of origin. Origin seems to be a good variable in the data set.  Not only do we see this here when we count the records, but we also notice that the IOM focuses on this variable when presenting their data to the public. That's a good sign. ",
      "cell_type": "markdown",
      "execution_count": null,
      "outputs": [],
      "metadata": {
        "_execution_state": "idle",
        "collapsed": false,
        "_uuid": "83456323fd812086e2c2c8f3e1696ac0e4f47618",
        "_cell_guid": "4d071ad2-1e16-453f-bca8-f8911088dc27"
      }
    },
    {
      "source": "origin_reg <- missing %>% group_by(origin) %>% count()\n\n\norigin_reg <- as.data.frame(origin_reg)\nhead(origin_reg, 20)",
      "cell_type": "code",
      "execution_count": 1,
      "outputs": [],
      "metadata": {
        "_execution_state": "idle",
        "collapsed": false,
        "_uuid": "4613adeb2aafd08e37dda06a26b9a0de307c7b75",
        "trusted": false,
        "_cell_guid": "104bedcc-9706-483d-adf6-7bdefe232f98"
      }
    },
    {
      "source": "The Nationality column is a pretty messy column.  I'm liking the region of origin variable after exploring how Nationality is tracked in the data set.  \n\nWe've got about 220 categories of nationalities.  Some are duplicates like 'Mexico' and 'Mexican'.  Others have some ethnic suggestions to them such as 'Myanmar' and 'Myanmar (Rohingya)'.  Others vary like categories for Syria such as Syria', 'Syrian' and 'Syria Arab Republic'... even 'African' and 'Sub-Saharan'...wondering how accurate these categories actually are...could a sub-saharan nationality been classified as 'African' when the data set was created? I'm even seeing some columns with multiple nationalities and ethnicities listed. Cleaning this up is going to take some time. There are also a lot of unknowns in this column - 1567 to be exact.  Still hard to tell how much value can be derived from this column given how messy it is and the amount of unknowns. ",
      "cell_type": "markdown",
      "execution_count": null,
      "outputs": [],
      "metadata": {
        "_execution_state": "idle",
        "collapsed": false,
        "_uuid": "2b319ce1f92fc92a38b1782a8020b6066aaa5cdc",
        "_cell_guid": "77817f60-82b8-4125-95a1-e7e51ac6c45c"
      }
    },
    {
      "source": "nations <- missing %>% \n    group_by(nationality) %>%   \n    count()\nnations <- as.data.frame(nations)\nhead(nations, 20) ",
      "cell_type": "code",
      "execution_count": 1,
      "outputs": [],
      "metadata": {
        "_execution_state": "idle",
        "collapsed": false,
        "_uuid": "8f56a091587620ff158e2099bc543bc4905f63d8",
        "trusted": false,
        "_cell_guid": "84120b7b-8b7b-4dcd-814a-dd0d6611eaf5"
      }
    },
    {
      "source": "### Let's focus on the tricky cause of death column. Here we see hundreds of causes of death. \n\nThe cause of death column has 290 different categorical variables.  There appear to be some variables that are the same with different spellings.  Others appear to have a lot of detail, but this detail is going to be difficult for anyone to make sense of when looking for patterns in the data.  It would be great if they used some type of standard classification method here to make sense of what's going on.  Going forward we're going to need to clean this up, address the spelling issues, and collapse certain categories.  \n\nBefore we get started I found this helpful resource from IOM.  \nresource: https://missingmigrants.iom.int/sites/default/files/gmdac_data_briefing_series_issue4.pdf \n\nOn page 5 of their report, the missing migrants project seems to have collapsed or at least they are presenting the causes of death in a limited number of categories.  This is a helpful start.  When collapsing variable values we'll try use this structure as a starting point and see how far we get.  \n\nBefore we start cleaning let's look at all the cause of death values.  ",
      "cell_type": "markdown",
      "execution_count": null,
      "outputs": [],
      "metadata": {
        "_execution_state": "idle",
        "collapsed": false,
        "_uuid": "a013798fbf3e86a91bb8289d9dc87c36f22ce4de",
        "_cell_guid": "ac34b2d4-7743-4e06-a67a-0366fbc98e85"
      }
    },
    {
      "source": "count <- missing %>% \n    group_by(cause_death) %>%  \n    count()\n\ncount <- as.data.frame(count)\nhead(count, 20) # limit the print because there are too many ",
      "cell_type": "code",
      "execution_count": 1,
      "outputs": [],
      "metadata": {
        "_execution_state": "idle",
        "collapsed": false,
        "_uuid": "1d55eca63e5f0bbb68c00e90359f2cabea797cd5",
        "trusted": false,
        "_cell_guid": "09a480cf-e841-4feb-80b9-20dbddfa7eeb"
      }
    },
    {
      "source": "As a first step let's just take out the records we're not interested.  These include records from other regions.  Cleaning up that cause of death column is going to take some time and since we're focused on the Mediterranean region, let's first subset the data.  \n\nThe incident location will be a key variable allowing us to examine the Mediterranean region in more detail.  ",
      "cell_type": "markdown",
      "execution_count": null,
      "outputs": [],
      "metadata": {
        "_execution_state": "idle",
        "collapsed": false,
        "_uuid": "84f4bd7276172418b21d55e186c7aeff65b50ceb",
        "_cell_guid": "837c3581-8d79-4b0f-bd20-570b0966d14a"
      }
    },
    {
      "source": "# subset the dataframe to the following regions: Europe, Mediterranean, Middle East, North Africa\nmissing_med <- subset(missing, incident_location == \"Europe\" | incident_location == \"Mediterranean\" | incident_location == \"Middle East\" | incident_location ==\"North Africa\")\n\n#check the data set.  We're down to 1415 variables.  \nstr(missing_med)\nregions <- missing_med %>% group_by(incident_location) %>% summarise(sum(missing), sum(dead))\nregions",
      "cell_type": "code",
      "execution_count": 1,
      "outputs": [],
      "metadata": {
        "_execution_state": "idle",
        "collapsed": false,
        "_uuid": "9f031fb8a12b34f2fbf74481d516e9900e63b439",
        "trusted": false,
        "_cell_guid": "b3823cf1-a606-4189-93be-bc8f9aaf34ff"
      }
    },
    {
      "source": "### Below are the new cause of death categories: \nThese are pretty similar to what's in the data set. \n\n 1. Drowning\n 2. Medical \n 3. Asphyxiation \n 4. Vehicle Accident\n 5. Train Accident\n 6. Violence, Assault, Murder\n 7. Exhaustion Starvation, Dehydration, Exposure\n 8. Sexual Assault\n 9. Accident\n 10. Unknown\n\n",
      "cell_type": "markdown",
      "execution_count": null,
      "outputs": [],
      "metadata": {
        "_execution_state": "idle",
        "collapsed": false,
        "_uuid": "d65d1113fd50919486f488b12ec5e8987417fe79",
        "_cell_guid": "4a04b26d-fe8e-44a0-8e22-e0f985e13668"
      }
    },
    {
      "source": "# this was a bit tedious to reclassify these as appropriate. \n\ncleanup <- function(df) {\n    df <- gsub(\"Boat fire\",\"Accident\",df)\n    df <- gsub(\"Asphyxiation and crushing\", \"Asphyxiation\",df)\n    df <- gsub(\"Beat-up and killed\", \"Violence, Assault, Murder\",df)\n    df <- gsub(\"Burned to death hiding in truck\", \"Vehicle Accident\",df)\n    df <- gsub(\"Burns and Suffocation\", \"Asphyxiation\",df)\n    df <- gsub(\"Burns from cooking gas explosion in connection house in Libya\", \"Accident\",df)\n    df <- gsub(\"Clubbed/beaten to death\",\"Violence, Assault, Murder\",df)\n    df <- gsub(\"Crushed\",\"Accident\",df)\n    df <- gsub(\"Crushed / drowning\",\"Drowning\",df)\n        df <- gsub(\"Boat\",\"Accident\",df)\n    df <- gsub(\"Accident / drowning\",\"Accident\",df)\n    df <- gsub(\"Accident by bus on ferry\",\"Accident\",df)\n    df <- gsub(\"Accident by pallets\",\"Accident\",df)\n    df <- gsub(\"Accident to death\",\"Accident\",df)\n    df <- gsub(\"Dehydration\",\"Exhaustion, Starvation, Dehydration, Exposure\",df)\n    df <- gsub(\"Dehydration and exposure to the elements\",\"Exhaustion, Starvation, Dehydration, Exposure\",df)\n    df <- gsub(\"Dehydration Harsh_weather_lack_of_adequate_shelter\",\"Exhaustion, Starvation, Dehydration, Exposure\",df)\n    df <- gsub(\"Dehydration Harsh_weather_lack_of_adequate_shelter Suffocation Excessive_physical_abuse Sexual_abuse\",\"Exhaustion, Starvation, Dehydration, Exposure\",df)\n    df <- gsub(\"Dehydration Suffocation Vehicle_Accident\",\"Exhaustion, Starvation, Dehydration, Exposure\",df)\n    df <- gsub(\"Dehydration Vehicle_Accident Excessive_physical_abuse\",\"Exhaustion, Starvation, Dehydration, Exposure\",df)\n    df <- gsub(\"Dehydration, Starvation\",\"Exhaustion, Starvation, Dehydration, Exposure\",df)\n    df <- gsub(\"Died of unknown cause in hospital shortly after rescue\",\"Unknown\",df)\n    df <- gsub(\"drowning\",\"Drowning\",df)\n    df <- gsub(\"Drowning after being thrown overboard by other passengers\",\"Drowning\",df)\n    df <- gsub(\"Drowning or suffocation in hull\",\"Drowning\",df)\n    df <- gsub(\"Drowning, Asphyxiation\",\"Drowning\",df)\n    df <- gsub(\"Drowning, Other\",\"Drowning\",df)\n    df <- gsub(\"Drowning, Trampling\",\"Drowning\",df)\n    df <- gsub(\"Drowning. Boat collided with ferry\",\"Drowning\",df)\n    df <- gsub(\"Electrocuted on train\",\"Train Accident\",df)\n    df <- gsub(\"Electrocution\",\"Accident\",df)\n    df <- gsub(\"Electrocution on railway\",\"Train Accident\",df)\n    df <- gsub(\"Excessive_physical_abuse\",\"Violence, Assault, Murder\",df)\n    df <- gsub(\"Excessive_physical_abuse Sexual_abuse\",\"Sexual Assault\",df)\n    df <- gsub(\"Excessive_physical_abuse Shot_or_Stabbed\",\"Violence, Assault, Murder\",df)\n    df <- gsub(\"Exposure\",\"Exhaustion, Starvation, Dehydration, Exposure\",df)\n    df <- gsub(\"Exposure, Hyperthermia\",\"Exhaustion, Starvation, Dehydration, Exposure\",df)\n    df <- gsub(\"Exposure. Died upon entry to refugee camp.\",\"Exhaustion, Starvation, Dehydration, Exposure\",df)\n    df <- gsub(\"Fell from boat\",\"Accident\",df)\n    df <- gsub(\"Fell from train\",\"Train Accident\",df)\n    df <- gsub(\"Fell from truck\",\"Vehicle Accident\",df)\n    df <- gsub(\"Fuel burns\",\"Accident\",df)\n    df <- gsub(\"Fuel Inhalation\",\"Asphyxiation\",df)\n    df <- gsub(\"Gylcemic crisis (Diabetic, medicine thrown overboard)\",\"Medical\",df)\n    df <- gsub(\"Harsh conditions\",\"Exhaustion, Starvation, Dehydration, Exposure\",df)\n    df <- gsub(\"Harsh_weather_lack_of_adequate_shelter\",\"Exhaustion, Starvation, Dehydration, Exposure\",df)\n    df <- gsub(\"Harsh_weather_lack_of_adequate_shelter Excessive_physical_abuse\",\"Exhaustion, Starvation, Dehydration, Exposure\",df)\n    df <- gsub(\"Harsh_weather_lack_of_adequate_shelter Excessive_physical_abuse Sexual_abuse\",\"Exhaustion, Starvation, Dehydration, Exposure\",df)\n    df <- gsub(\"Harsh_weather_lack_of_adequate_shelter Other\",\"Exhaustion, Starvation, Dehydration, Exposure\",df)\n    df <- gsub(\"Harsh_weather_lack_of_adequate_shelter Suffocation Vehicle_Accident\",\"Exhaustion, Starvation, Dehydration, Exposure\",df)\n    df <- gsub(\"Harsh_weather_lack_of_adequate_shelter Vehicle_Accident\",\"Exhaustion, Starvation, Dehydration, Exposure\",df)\n    df <- gsub(\"Head injury\",\"Accident\",df)\n    df <- gsub(\"Head injury from fall\",\"Accident\",df)\n    df <- gsub(\"Head trauma (hit by boat propeller)\",\"Accident\",df)\n    df <- gsub(\"Hi by truck\",\"Vehicle Accident\",df)\n    df <- gsub(\"Hit by car\",\"Vehicle Accident\",df)\n    df <- gsub(\"Hit by train\",\"Train Accident\",df)\n    df <- gsub(\"Hit by truck\",\"Vehicle Accident\",df)\n    df <- gsub(\"Hit by vehicle\",\"Vehicle Accident\",df)\n    df <- gsub(\"Hit by Vehicle\",\"Vehicle Accident\",df)\n    df <- gsub(\"Homicide, likely by asphyxiation\",\"Violence, Assault, Murder\",df)\n    df <- gsub(\"Hunger, fatigue\",\"Exhaustion, Starvation, Dehydration, Exposure\",df)\n    df <- gsub(\"Hyperthermia\",\"Exhaustion, Starvation, Dehydration, Exposure\",df)\n    df <- gsub(\"Hyperthermia, Abandoned by smugglers in the desert\",\"Exhaustion, Starvation, Dehydration, Exposure\",df)\n    df <- gsub(\"Hyperthermia, starvation\",\"Exhaustion, Starvation, Dehydration, Exposure\",df)\n    df <- gsub(\"Hypothermia, Exhaustion\",\"Exhaustion, Starvation, Dehydration, Exposure\",df)\n    df <- gsub(\"Hypothermia, Malnutrition\",\"Accident\",df)\n    df <- gsub(\"Inhalation of toxic fumes from boat engine\",\"Accident\",df)\n    df <- gsub(\"Injured from a fight\",\"Violence, Assault, Murder\",df)\n    df <- gsub(\"Killed\",\"Violence, Assault, Murder\",df)\n    df <- gsub(\"NA\",\"Unknown\",df)\n    df <- gsub(\"Presumed Drowning\",\"Drowning\",df)\n    df <- gsub(\"Hypothermia\",\"Exhaustion, Starvation, Dehydration, Exposure\",df)\n    df <- gsub(\"Unknown (found on motorway)\",\"Unknown\",df)\n    df <- gsub(\"Unspecified location between North Africa and Italy. Body brought to Calabria.\",\"Unknown\",df)\n    df <- gsub(\"Starvation, Exhaustion, Starvation, Dehydration, Exhaustion, Starvation, Dehydration, Exposure, Exhaustion\",\"Exhaustion, Starvation, Dehydration, Exposure\",df)\n    df <- gsub(\"Exhaustion, Starvation, Dehydration, Exposure, Abandoned by smugglers in the desert\",\"Exhaustion, Starvation, Dehydration, Exposure\",df)\n    df <- gsub(\"Toxic fumes/asphyxiation\",\"Asphyxiation\",df)\n    df <- gsub(\"Shot\",\"Violence, Assault, Murder \",df)\n    df <- gsub(\"Plane stowaway\",\"Unknown\",df)\n    df <- gsub(\"Suffocation, Trampled\",\"Asphyxiation\",df)\n    df <- gsub(\"Pulmonary edema\",\"Medical\",df)\n    df <- gsub(\"Suffocation\",\"Asphyxiation\",df)\n    df <- gsub(\"Unknown (body recovered from boat)\",\"Unknown\",df)\n    df <- gsub(\"Unknown (found dead on top of train)\",\"Unknown\",df)\n    df <- gsub(\"Unknown (body recovered from boat)\",\"Unknown\",df)\n    df <- gsub(\"Presumed asphyxiation\",\"Asphyxiation\",df)\n    df <- gsub(\"Vehicle accident\",\"Vehicle Accident\",df)\n    df <- gsub(\"Gylcemic crisis (Diabetic, medicine thrown overboard)\",\"Medical\",df)\n    df <- gsub(\"Unknown, plane stowaway\",\"Unknown\",df)\n    df <- gsub(\"Violent robbery\",\"Violence, Assault, Murder\",df)\n    df <- gsub(\"Meningitis\",\"Medical\",df)\n    df <- gsub(\"Exhaustion, Starvation, Dehydration, Exposure, hypothermia\",\"Exhaustion, Starvation, Dehydration, Exposure\",df)\n    df <- gsub(\"Accident from fall\",\"Accident\",df)\n    df <- gsub(\"Accident on railway\",\"Train Accident\",df)\n    df <- gsub(\"Asphyxiation Vehicle_Accident\",\"Asphyxiation\",df)\n    df <- gsub(\"Asphyxiation, Other\",\"Asphyxiation\",df)\n    df <- gsub(\"Drowning. Accident collided with ferry\",\"Drowning\",df)\n    df <- gsub(\"Drowning. Accident collided with ferry\",\"Unknown\",df)\n    df <- gsub(\"Exhaustion, Exhaustion, Starvation, Dehydration, Exposure, Exhaustion, Starvation, Dehydration, \",\"Exhaustion, Starvation, Dehydration, Exposure\",df)\n    df <- gsub(\"Likely Drowning \",\"Drowning\",df)\n    df <- gsub(\"Lung infection\",\"Medical\",df)\n    \n    return(df)\n}\n\n# this function helps, but there's still a lot of categories that need cleaning.  \nmissing_med$cause_death <- cleanup(missing_med$cause_death)\n\n\n# further cleaning up this column using using a more flexible technique. \nmissing_med$cause_death[startsWith(missing_med$cause_death, \"Exhaustion\")] <- \"Exhaustion, Starvation, Dehydration, Exposure\"\nmissing_med$cause_death[startsWith(missing_med$cause_death, \"Starvation\")] <- \"Exhaustion, Starvation, Dehydration, Exposure\"\nmissing_med$cause_death[startsWith(missing_med$cause_death, \"Violence\")] <- \"Violence, Assault, Murder\"\nmissing_med$cause_death[startsWith(missing_med$cause_death, \"Sickness\")] <- \"Medical\"\nmissing_med$cause_death[startsWith(missing_med$cause_death, \"Gylcemic\")] <- \"Medical\"\nmissing_med$cause_death[startsWith(missing_med$cause_death, \"Head trauma\")] <- \"Medical\"\nmissing_med$cause_death[startsWith(missing_med$cause_death, \"Likely suffocation\")] <- \"Asphyxiation\"\nmissing_med$cause_death[startsWith(missing_med$cause_death, \"Murdered\")] <- \"Violence, Assault, Murder\"\nmissing_med$cause_death[startsWith(missing_med$cause_death, \"Likely Drowning\")] <- \"Drowning\"\nmissing_med$cause_death[startsWith(missing_med$cause_death, \"On board violence\")] <- \"Unknown\"\nmissing_med$cause_death[startsWith(missing_med$cause_death, \"Plane Stowaway\")] <- \"Unknown\"\nmissing_med$cause_death[startsWith(missing_med$cause_death, \"Presumed dehydration\")] <- \"Exhaustion, Starvation, Dehydration, Exposure\"\nmissing_med$cause_death[startsWith(missing_med$cause_death, \"Other\")] <- \"Unknown\"\nmissing_med$cause_death[startsWith(missing_med$cause_death, \"Presumed violence\")] <- \"Violence, Assault, Murder\"\nmissing_med$cause_death[startsWith(missing_med$cause_death, \"Probable Drowning\")] <- \"Drowning\"\nmissing_med$cause_death[startsWith(missing_med$cause_death, \"Respiratory problem\")] <- \"Medical\"\nmissing_med$cause_death[startsWith(missing_med$cause_death, \"Road accident\")] <- \"Vehicle Accident\"\nmissing_med$cause_death[startsWith(missing_med$cause_death, \"Sexual_abuse\")] <- \"Sexual Assault\"\nmissing_med$cause_death[startsWith(missing_med$cause_death, \"Tekeze River, near Himora, Ethiopia\")] <- \"Unknown\"\nmissing_med$cause_death[startsWith(missing_med$cause_death, \"Train accident\")] <- \"Sexual Assault\"\nmissing_med$cause_death[startsWith(missing_med$cause_death, \"Stabbed\")] <- \"Violence, Assault, Murder\"\nmissing_med$cause_death[startsWith(missing_med$cause_death, \"Truck crash\")] <- \"Vehicle Accident\"\nmissing_med$cause_death[startsWith(missing_med$cause_death, \"Unclear\")] <- \"Unknown\"\nmissing_med$cause_death[startsWith(missing_med$cause_death, \"Vehicle incident\")] <- \"Vehicle Accident\"\nmissing_med$cause_death[startsWith(missing_med$cause_death, \"Vehicle_Accident\")] <- \"Vehicle Accident\"\nmissing_med$cause_death[startsWith(missing_med$cause_death, \"Undernourished\")] <- \"Exhaustion, Starvation, Dehydration, Exposure\"\nmissing_med$cause_death[startsWith(missing_med$cause_death, \"Unknown\")] <- \"Unknown\"\nmissing_med$cause_death[startsWith(missing_med$cause_death, \"unknown\")] <- \"Unknown\"\n\n# We've got some leftover NAs encoded as <NA> in the data.  The normal na removal code isn't \n# working so this bit tranforms things and changes these to unknown.  \nmissing_med$cause_death[is.na(missing_med$cause_death)] <- 0\nmissing_med$cause_death <- gsub(0,\"Unknown\", missing_med$cause_death)\n\n\n# View new cause of death categories and sum the missing persons and death counts \nmissing_med %>% \n    group_by(cause_death) %>% \n    summarise(sum(missing), sum(dead))\n",
      "cell_type": "code",
      "execution_count": 1,
      "outputs": [],
      "metadata": {
        "_execution_state": "idle",
        "collapsed": false,
        "_uuid": "e864a84e0cd8a10674426d14ed5ee904c07daf1e",
        "trusted": false,
        "_cell_guid": "41dfc01d-30c1-434a-84cf-904bad4ec6c5"
      }
    },
    {
      "source": "### Part 2: Data Exploration \n\nIn this second part we'll focus more on exploring our data and less on cleaning and data manipulation.  We will start by looking at the data spatially.  The data set contains latitude and longitude coordinates so we'll start to visualize and map the data to see if we find any useful insights.  ",
      "cell_type": "markdown",
      "execution_count": null,
      "outputs": [],
      "metadata": {
        "_execution_state": "idle",
        "collapsed": false,
        "_uuid": "8a4c645675510f5cb226d05798cceffafb916ef2",
        "_cell_guid": "616ad522-e9da-41d7-b32d-ff2b0c0b2d9e"
      }
    },
    {
      "source": "# plot the lat and lon cords and show regional classifications \nlocation_plot <- ggplot(missing_med, aes(x = lat, y = lon), col=incident_location) + geom_point(aes(col=incident_location))\nlocation_plot",
      "cell_type": "code",
      "execution_count": 1,
      "outputs": [],
      "metadata": {
        "_execution_state": "idle",
        "collapsed": false,
        "_uuid": "b9bdf4c8a2dbd4e56fc97b9548e6dad066e4011d",
        "trusted": false,
        "_cell_guid": "144b19ec-6937-4645-8886-97bc9c83e423"
      }
    },
    {
      "source": "I want to give credit here to www.kaggle.com/jonathanbouchet/missing-migrants-data notebook.  \nI'm using his mapping method here ggforitfy.  I'm more familiar with the google ggmap plots, but since kaggle has limits to real world data analysis I'm trying a workaround.  I still like my google maps and am hopeful kaggle will support more google products in the future. ",
      "cell_type": "markdown",
      "execution_count": null,
      "outputs": [],
      "metadata": {
        "_execution_state": "idle",
        "collapsed": false,
        "_uuid": "b86bb70c6c854da23e61e35f4631b92845f04fb0",
        "_cell_guid": "c4f60032-ea42-4e53-832c-aaa55a6e7416"
      }
    },
    {
      "source": "library(gridExtra)\nlibrary(grid)\nlibrary(ggthemes)\nlibrary(RColorBrewer)\nlibrary(ggfortify)\nlibrary(rworldmap)\n\nworldMap <- fortify(map_data(\"world\"), region = \"region\")\n\nmap <-ggplot() + \n  geom_map(data = worldMap, map = worldMap,aes(x = long, y = lat, map_id = region, group = group),fill = \"white\", color = \"black\", size = 0.25)",
      "cell_type": "code",
      "execution_count": 1,
      "outputs": [],
      "metadata": {
        "_execution_state": "idle",
        "collapsed": false,
        "_uuid": "3d5fe401bc6f0c4ea16a6cb9bb41d65fe3af5fd1",
        "trusted": false,
        "_cell_guid": "387b1db6-7061-423b-857c-4d68cb0b6c03"
      }
    },
    {
      "source": "# look at our missing persons records on a map \nmed_missing_p <- subset(missing_med, missing >= 1)\nmap + geom_point(aes(x = lon, y = lat, alpha=0.5, col=factor(incident_location)), data = med_missing_p) +\n    theme_fivethirtyeight() + \n    scale_color_brewer(name='',palette='Set1') + \n    theme(legend.position='top') + \n    xlab('') + ylab('') + xlim(-15,40) + ylim(0,60) +\n    ggtitle('missing persons by region')\n",
      "cell_type": "code",
      "execution_count": 1,
      "outputs": [],
      "metadata": {
        "_execution_state": "idle",
        "collapsed": false,
        "_uuid": "eb6855839500e6d936ae3993c9ca18bf98bc1811",
        "trusted": false,
        "_cell_guid": "d100970d-8a70-49aa-9bbc-ce351612a235"
      }
    },
    {
      "source": "# view the location of deaths \nmed_dead <- subset(missing_med, dead >= 1)\nmap + geom_point(aes(x = lon, y = lat, alpha=0.5, col=factor(incident_location), size=dead), data = med_dead) +\n      theme_fivethirtyeight() + \n      scale_color_brewer(palette='Set1') + \n      theme(legend.position='top') + xlab('') + ylab('') + \n      ggtitle('deaths by region')\n",
      "cell_type": "code",
      "execution_count": 1,
      "outputs": [],
      "metadata": {
        "_execution_state": "idle",
        "collapsed": false,
        "_uuid": "28d0771ee370c1eb8cc83ce55294a34fbdc97206",
        "trusted": false,
        "_cell_guid": "f707872a-9a17-487a-9644-97ed84f8fa66"
      }
    },
    {
      "source": "Now let's look at the location of the \"Unverified\" deaths in the dataset.  These records tend to be clustered in southern Libya, Egypt, and Sudan.  \n",
      "cell_type": "markdown",
      "execution_count": null,
      "outputs": [],
      "metadata": {
        "_execution_state": "idle",
        "collapsed": false,
        "_uuid": "ae8764ec30c87ff8901f4cfef6c78b14056889d6",
        "_cell_guid": "f9ffac07-8038-40d1-a895-ce8056c3189f"
      }
    },
    {
      "source": "map + geom_point(aes(x = lon, y = lat, alpha=0.5, col=factor(reliability), size=dead), data = med_dead) +\n      theme_fivethirtyeight() + \n      scale_color_brewer(palette='Set1') + \n      theme(legend.position='top') + xlab('') + ylab('') +\n      ggtitle('verified and unverified deaths')\n",
      "cell_type": "code",
      "execution_count": 1,
      "outputs": [],
      "metadata": {
        "_execution_state": "idle",
        "collapsed": false,
        "_uuid": "f93845cd7185b235740de49484696f0f870f4d92",
        "trusted": false,
        "_cell_guid": "43f2e44a-17cc-4396-adc0-73d4ae51cea0"
      }
    },
    {
      "source": "Now let's look at the location of the \"Unverified\" missing persons recorded in the dataset. It looks like we don't have any \"Unverified\" records classified as \"missing persons\" in the dataset. All of these seem to be verified or at least partially verified.  ",
      "cell_type": "markdown",
      "execution_count": null,
      "outputs": [],
      "metadata": {
        "_execution_state": "idle",
        "collapsed": false,
        "_uuid": "ed26f09951754eb66e93495e6699120fd077c9a6",
        "_cell_guid": "1aa34b7f-7d8a-4311-8c3c-4a269c82c87c"
      }
    },
    {
      "source": "map + geom_point(aes(x = lon, y = lat, alpha=0.5, col=factor(reliability), size=missing), data = med_missing_p) +\n    theme_fivethirtyeight() + \n    scale_color_brewer(name='',palette='Set1') + \n    theme(legend.position='top') + \n    xlab('') + ylab('') + xlim(-15,40) + ylim(0,60) +\n    ggtitle('verified missing perons records')",
      "cell_type": "code",
      "execution_count": 1,
      "outputs": [],
      "metadata": {
        "_execution_state": "idle",
        "collapsed": false,
        "_uuid": "c4e943a455266c6283d724ec748afd0d2fc6a639",
        "trusted": false,
        "_cell_guid": "2e973493-e4ab-4c1e-acb9-a19f45ae635d"
      }
    },
    {
      "source": "### Part 3: Adding New Features to Analyze Mediterranean Migrant Routes \n\nNow we are going to add another feature called migration route. This new feature is closely related to incident location. However, we're breaking thigs down a little more based on information from Frontex (Europe's border patrol agency) and IOM defined migration routes. According to Frontex and IOM several migration routes exist around the Mediterranean Sea.  Here's some helpful links for more background on the routes: \nhttp://frontex.europa.eu/trends-and-routes/migratory-routes-map/ \nhttp://migration.iom.int/europe/ \n\nI think these breaks represent a good start, but they could probably be improved if you had more specialized knowledge of the routes.",
      "cell_type": "markdown",
      "execution_count": null,
      "outputs": [],
      "metadata": {
        "_execution_state": "idle",
        "collapsed": false,
        "_uuid": "1dc13326a2ff75496d71017f08be09b30860a3ba",
        "_cell_guid": "e55bb408-4c62-418f-80af-576059be9137"
      }
    },
    {
      "source": "# define the space for routes using the lat and lon coords and incident location \nmissing_med$route <- ifelse((missing_med$lat <= 40) & (missing_med$lat >= 30) & (missing_med$lon <= 5) & (missing_med$lon >= -20), \"Western Mediterranean Route\",\n                      ifelse((missing_med$lat <= 41) & (missing_med$lat >= 28) & (missing_med$lon >= 5) & (missing_med$lon <= 22), \"Central Mediterranean Route\", \n                      ifelse((missing_med$lat <= 35) & (missing_med$lat >= 30) & (missing_med$lon >= 20 ) & (missing_med$lon <= 35), \"Apulia and Calabria Route\",\n                      ifelse((missing_med$lat <= 41) & (missing_med$lat >= 35) & (missing_med$lon >= 20) & (missing_med$lon <= 80), \"Eastern Mediterranean Route\", \n                      ifelse((missing_med$lat >= 41) & (missing_med$lat <= 47) & (missing_med$lon >= 18) & (missing_med$lon <= 28), \"Western Balkan Route\", \n                      ifelse((missing_med$incident_location == \"North Africa\") | (missing_med$incident_location == \"Sub-Saharan Africa\"), \"Africa Route\", \n                      ifelse((missing_med$incident_location == \"Europe\"), \"Europe Route\",\"Other\")))))))\n\n# plot the new routes on a map to see if they make sense.  \nmap + geom_point(aes(x = lon, y = lat, alpha=0.5, col=factor(route)), data = missing_med) +\n    theme_fivethirtyeight() + \n    scale_color_brewer(name='',palette='Set1') + \n    theme(legend.position='top') + \n    xlab('') + ylab('') + xlim(-15,40) + ylim(0,60) +\n    ggtitle('Incidents by migrant routes to Europe')",
      "cell_type": "code",
      "execution_count": 1,
      "outputs": [],
      "metadata": {
        "_execution_state": "idle",
        "collapsed": false,
        "_uuid": "629f0b50b177bca53bc549da8a4fb6ebb390fbf1",
        "trusted": false,
        "_cell_guid": "4bf462ee-474f-4309-b220-08d5751aa99e"
      }
    },
    {
      "source": "### Part 4: Findings \n\nThe next part will explore key findings from the dataset.  \n\n\n### Central Mediterranean Sea route is the most dangerous migration route to Europe  \nThe plot below shows missing persons by route.  It appears many migrants go missing on the Central Mediterranean route south of Italy. ",
      "cell_type": "markdown",
      "execution_count": null,
      "outputs": [],
      "metadata": {
        "_execution_state": "idle",
        "collapsed": false,
        "_uuid": "cf2b75986fd2df926af99ea1953a603c4715efaf",
        "_cell_guid": "c9c9c34e-62cd-4a05-b0ad-2f2fe18b2f63"
      }
    },
    {
      "source": "# plot missing persons by route \nmissing_people <- subset(missing_med, missing >= 1)\nmissing_route_map <- map + geom_point(aes(x = lon, y = lat, alpha=0.5, col=factor(route)), data = missing_people) +\n    theme_fivethirtyeight() + \n    scale_color_brewer(name='',palette='Set1') + \n    theme(legend.position='top') + \n    xlab('') + ylab('') + xlim(-10,40) + ylim(15,60) +\n    ggtitle('missing migrant locations by route')\nmissing_route_map ",
      "cell_type": "code",
      "execution_count": 1,
      "outputs": [],
      "metadata": {
        "_execution_state": "idle",
        "collapsed": false,
        "_uuid": "deb531b7bf18a4e4448679d721239e9d1066c8b2",
        "trusted": false,
        "_cell_guid": "e3d87fcf-462e-4ac4-bb43-928da77bc52d"
      }
    },
    {
      "source": "Now let's look at the origin of those migrants dying by migration route to Europe.  The central med route stands out, but it is hard to tell exactly where these people come from.  The values \"mixed\" and and \"Unknown\" are high.  Sub-Saharan Africa stands out here with a high number of deaths on the central med route.  This finding might be valuable to those looking to prevent deaths along specific migrant routes.   ",
      "cell_type": "markdown",
      "execution_count": null,
      "outputs": [],
      "metadata": {
        "_execution_state": "idle",
        "collapsed": false,
        "_uuid": "3a219a30646a24f0675b131dc8d93398e05dc066",
        "_cell_guid": "8d4d7838-7167-48cf-9bad-a73ecbc004e3"
      }
    },
    {
      "source": "ggplot(missing_people, aes(x=origin, y=missing)) +\n     geom_bar(stat = 'identity') +\n     coord_flip() +\n     ggtitle(\"origin of migrants recorded dead by route\") +\n     facet_grid(route ~ .)\n\n",
      "cell_type": "code",
      "execution_count": 1,
      "outputs": [],
      "metadata": {
        "_execution_state": "idle",
        "collapsed": false,
        "_uuid": "df4f0c8e5640bdd1dc56ad11132374ad2212ad54",
        "trusted": false,
        "_cell_guid": "ddd8d826-0efb-481e-88ff-f49c9723aba7"
      }
    },
    {
      "source": "Let's narrow our focus a bit to look at incidents of drowning and those that are Syrian.  \n\nHere we create a few more features for our data set.",
      "cell_type": "markdown",
      "execution_count": null,
      "outputs": [],
      "metadata": {
        "_execution_state": "idle",
        "collapsed": false,
        "_uuid": "1b5ed3af57a12e2b8deedce2b414d2f39f6d2eba",
        "_cell_guid": "96851058-6764-4193-b54e-acc65f2ebf2b"
      }
    },
    {
      "source": "# create a new data frame just in case we want to go back and try something else.  \ndf <- missing_med \n\n# create a new True/False Feature for drowning \ndf$drown <- ifelse((missing_med$cause_death == \"Drowning\"), \"TRUE\", \"FASLE\")\n\n# The nationality column is pretty messey as well. We'll try a simple fix, but given how messy this \n# column was earlier we'd urge caution in a real world analysis setting. \ndf$nationality[startsWith(df$nationality, \"Syr\")] <- \"Syrian\"\n\n# now view the missing and dead Syrians in a table \nnation <- df %>% \n    group_by(nationality == 'Syrian') %>% \n    summarise(sum(missing), sum(dead))\n\nnation\n\n",
      "cell_type": "code",
      "execution_count": 1,
      "outputs": [],
      "metadata": {
        "_execution_state": "idle",
        "collapsed": false,
        "_uuid": "a2bb5125aae547742ca7b3c0463a50f247c5205b",
        "trusted": false,
        "_cell_guid": "402fc581-4294-44e2-b260-393cb47d42ed"
      }
    },
    {
      "source": "# create a true/false feature for Syrian \ndf$syrian <- ifelse((df$nationality == \"Syrian\"), \"TRUE\", \"FASLE\")\n\n# check the new syrian column to make sure it looks like what we did above \nnation <- df %>% \n    group_by(syrian == 'TRUE') %>% \n    summarise(sum(missing), sum(dead))\n\nnation",
      "cell_type": "code",
      "execution_count": 1,
      "outputs": [],
      "metadata": {
        "_execution_state": "idle",
        "collapsed": false,
        "_uuid": "31e5817c6691a30d3b9434f1f2c03cadc414fe13",
        "trusted": false,
        "_cell_guid": "5f07226c-b075-4577-a094-da7325b36225"
      }
    },
    {
      "source": "### About 20 percent of all deaths in the Med. Region are Syrian ",
      "cell_type": "markdown",
      "execution_count": null,
      "outputs": [],
      "metadata": {
        "_execution_state": "idle",
        "collapsed": false,
        "_uuid": "7481a6dd46b877f24a0b45c34f51f4247502f589",
        "_cell_guid": "aba5c1a4-8026-45c5-8a62-638a5531440d"
      }
    },
    {
      "source": "# plot Syrian deaths in the med. region \npie <- ggplot(df, aes(x=\"\", y=dead, fill=syrian)) +\n    geom_bar(width = 1, stat = \"identity\") +\n    coord_polar(\"y\", start=0) +\n    theme_fivethirtyeight() + \n    scale_color_brewer(name='',palette='Set1') + \n    ggtitle('Proportion of Syrian Deaths in the Med. Region')\npie\n",
      "cell_type": "code",
      "execution_count": 1,
      "outputs": [],
      "metadata": {
        "_execution_state": "idle",
        "collapsed": false,
        "_uuid": "bcfa1e7702cb938b995b720792357497ba62e245",
        "trusted": false,
        "_cell_guid": "fc725086-a392-4ada-abd6-7a086bbdb846"
      }
    },
    {
      "source": "# plot missing persons in the med region \npie2 <- ggplot(df, aes(x=\"\", y=missing, fill=syrian)) +\n    geom_bar(width = 1, stat = \"identity\") +\n    coord_polar(\"y\", start=0) + \n    theme_fivethirtyeight() + \n    scale_color_brewer(name='',palette='Set1') + \n    ggtitle('Proportion of Syrian Missing Migrants\n    in the Med. Region')\npie2\n",
      "cell_type": "code",
      "execution_count": 1,
      "outputs": [],
      "metadata": {
        "_execution_state": "idle",
        "collapsed": false,
        "_uuid": "46e4407b689e48403f1ae1d22a98b0adae859c7f",
        "trusted": false,
        "_cell_guid": "7c0bbb7b-aa4c-4a67-a072-5ec1c98b8ab9"
      }
    },
    {
      "source": "### Now look at the migration routes where Syrians go missing\n\n",
      "cell_type": "markdown",
      "execution_count": null,
      "outputs": [],
      "metadata": {
        "_execution_state": "idle",
        "collapsed": false,
        "_uuid": "c30e08edce77dc151205b17cb3bcf473e653f8cf",
        "_cell_guid": "a6a73d25-6424-4a24-ae4e-9db3e2f31e84"
      }
    },
    {
      "source": "missing_syrians <- subset(df, syrian == 'TRUE')\nsyrians <- map + geom_point(aes(x = lon, y = lat, alpha=0.5, col=factor(route), size=missing), data = missing_syrians) +\n    theme_fivethirtyeight() + \n    scale_color_brewer(name='',palette='Set1') + \n    theme(legend.position='top') + \n    xlab('') + ylab('') + xlim(-10,40) + ylim(15,60) +\n    ggtitle('Migrant Routes where Syrians go Missing')\n\nsyrians",
      "cell_type": "code",
      "execution_count": 1,
      "outputs": [],
      "metadata": {
        "_execution_state": "idle",
        "collapsed": false,
        "_uuid": "6ba998b9a0d2a3b455d0034fa47772dac7cbb782",
        "trusted": false,
        "_cell_guid": "26e83c1c-59c1-46c0-af7b-68aa2c411863"
      }
    },
    {
      "source": "ggplot(missing_syrians, aes(x=route, y=missing)) +\n     geom_bar(stat = 'identity') +\n     theme_fivethirtyeight() + \n     coord_flip() +\n     ggtitle(\"Routes where Syrians go Missing\") \n",
      "cell_type": "code",
      "execution_count": 1,
      "outputs": [],
      "metadata": {
        "_execution_state": "idle",
        "collapsed": false,
        "_uuid": "c30c9281a2fd905f3fa2109ee36c9567e6f696ac",
        "trusted": false,
        "_cell_guid": "901916e1-abda-455a-a77c-2619dfd5e850"
      }
    },
    {
      "source": "### Now let's identify the most deadly migrant routes for Syrians going to Europe ",
      "cell_type": "markdown",
      "execution_count": null,
      "outputs": [],
      "metadata": {
        "_execution_state": "idle",
        "collapsed": false,
        "_uuid": "fce24c713d07ad697838230d76ad4617f2b30e5d",
        "_cell_guid": "c5a7628e-a328-43ae-867a-7b45f4570a55"
      }
    },
    {
      "source": "dead_syrians <- subset(df, syrian == 'TRUE')\ndeaths_syrians <- map + geom_point(aes(x = lon, y = lat, alpha=0.5, col=factor(route), size=dead), data = dead_syrians) +\n    theme_fivethirtyeight() + \n    scale_color_brewer(name='',palette='Set1') + \n    theme(legend.position='top') + \n    xlab('') + ylab('') + xlim(-10,40) + ylim(15,60) +\n    ggtitle('Migrant Routes where Syrians Die')\n\ndeaths_syrians",
      "cell_type": "code",
      "execution_count": 1,
      "outputs": [],
      "metadata": {
        "_execution_state": "idle",
        "collapsed": false,
        "_uuid": "724c5e1451461c5b19bc52da8e232d637a84ee40",
        "trusted": false,
        "_cell_guid": "295a78ed-d786-409f-a60b-07255cb5a575"
      }
    },
    {
      "source": "### The most common cause of death for Syrian Migrants is Drowning.  \n\nBelow we look at the common causes of deaths for Syrian Migrants heading to Europe.  It appears most of these migrants die due to drowning on the Central Mediterranean route.  This is clearly the most dangerous route for Syrians heading to Europe.  ",
      "cell_type": "markdown",
      "execution_count": null,
      "outputs": [],
      "metadata": {
        "_execution_state": "idle",
        "collapsed": false,
        "_uuid": "03304c611c661ed2b1b0793a577ca795698b4c51",
        "_cell_guid": "a9e9e73c-4f03-4c0d-a671-43d27d897099"
      }
    },
    {
      "source": "ggplot(data=dead_syrians, aes(x=route, y=dead, fill=cause_death)) +\n  geom_bar(stat=\"identity\")+\n  scale_color_brewer(name='',palette='Set1') + \n  scale_fill_brewer(palette=\"Paired\")+\n  theme_fivethirtyeight() + \n  coord_flip() +\n  theme(legend.position='bottom') + \n  ggtitle(\"Deadly Routes for Syrian Migrants\") +\n  scale_x_discrete(limits = c(\"Western Balkan Route\", \"Apulia and Calabria Route\", \"Other\", \"Europe Route\", \n                              \"Eastern Mediterranean Route\", \"Central Mediterranean Route\")) \n",
      "cell_type": "code",
      "execution_count": 1,
      "outputs": [],
      "metadata": {
        "_execution_state": "idle",
        "collapsed": false,
        "_uuid": "7e976e96d4bc5bbe6eec627c38e0d85eeed85e8c",
        "trusted": false,
        "_cell_guid": "b44aa065-18e1-48d4-8fc3-796fdf1fe89c"
      }
    },
    {
      "source": "### Violence is a major cause of death along the Turkish Syrian Border. ",
      "cell_type": "markdown",
      "execution_count": null,
      "outputs": [],
      "metadata": {
        "_execution_state": "idle",
        "collapsed": false,
        "_uuid": "ec21bde2b9aeba15dab1dc9f5978d18a01d9ca89",
        "_cell_guid": "76eea2af-fad1-4dea-87eb-c07a3876e211"
      }
    },
    {
      "source": "cod_syrians <- map + geom_point(aes(x = lon, y = lat, alpha=0.5, col=factor(cause_death), size=dead), data = dead_syrians) +\n    theme_fivethirtyeight() + \n    scale_color_brewer(name='',palette='Set1') + \n    theme(legend.position='top') + \n    xlab('') + ylab('') + xlim(-10,40) + ylim(15,60) +\n    ggtitle('Cause of Death for Syrian Migrants')\n\ncod_syrians",
      "cell_type": "code",
      "execution_count": 1,
      "outputs": [],
      "metadata": {
        "_execution_state": "idle",
        "collapsed": false,
        "_uuid": "84c6ab42dbd61c0232139b7e2fd0c0cc3ecad751",
        "trusted": false,
        "_cell_guid": "05100f83-9375-49cd-aa27-31abd3fbd84b"
      }
    },
    {
      "source": "### Key Findings \n\n 1. The Central Mediterranean Route and the Eastern Mediterranean Route are the most dangerous migration routes for Syrians heading to Europe\n 2. The most common cause of death for Syrian migrants is drowning \n 3. Violence is a common cause of death for Syrians along the Turkish/Syrian Border \n 4. 20 percent of migrant fatalities in the Mediterranean are Syrian \n\n",
      "cell_type": "markdown",
      "execution_count": null,
      "outputs": [],
      "metadata": {
        "_execution_state": "idle",
        "collapsed": false,
        "_uuid": "f0d1f9d39776f2e718775f9737c26c7bf928e09b",
        "_cell_guid": "eb299be2-217b-4230-9882-0059a573ea90"
      }
    },
    {
      "source": "",
      "cell_type": "code",
      "execution_count": 1,
      "outputs": [],
      "metadata": {
        "_execution_state": "idle",
        "collapsed": false,
        "_uuid": "02af9887de1bbc0b3295d0bc68229adfb6fe2a0a",
        "trusted": false,
        "_cell_guid": "58c938cf-05a6-4999-bbe6-d31ed398f043"
      }
    }
  ],
  "nbformat": 4,
  "metadata": {
    "kernelspec": {
      "display_name": "R",
      "language": "R",
      "name": "ir"
    },
    "language_info": {
      "mimetype": "text/x-r-source",
      "name": "R",
      "pygments_lexer": "r",
      "version": "3.4.1",
      "file_extension": ".r",
      "codemirror_mode": "r"
    }
  }
}